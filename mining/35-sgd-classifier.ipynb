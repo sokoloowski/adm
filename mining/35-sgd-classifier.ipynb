{
 "cells": [
  {
   "cell_type": "markdown",
   "id": "6213bc83506e4c60",
   "metadata": {},
   "source": [
    "# Advanced Data Mining\n",
    "\n",
    "## Models learning\n",
    "\n",
    "### Classification with linear classifiers (SVM, logistic regression, etc.) with SGD training"
   ]
  },
  {
   "cell_type": "code",
   "execution_count": 1,
   "id": "7346ea3b19958355",
   "metadata": {
    "ExecuteTime": {
     "end_time": "2024-12-16T19:03:52.429877Z",
     "start_time": "2024-12-16T19:03:51.812821Z"
    },
    "collapsed": true
   },
   "outputs": [],
   "source": [
    "from sklearn.feature_extraction.text import CountVectorizer, TfidfVectorizer\n",
    "from sklearn.linear_model import SGDClassifier\n",
    "\n",
    "from scripts.classification import train_analyze\n",
    "from scripts.colors import bold\n",
    "from scripts.utils import checkpoint"
   ]
  },
  {
   "cell_type": "markdown",
   "id": "1edbb3bc692ff761",
   "metadata": {},
   "source": [
    "Load data from previous step"
   ]
  },
  {
   "cell_type": "code",
   "execution_count": 2,
   "id": "a931ac044f038a25",
   "metadata": {
    "ExecuteTime": {
     "end_time": "2024-12-16T19:03:52.566934Z",
     "start_time": "2024-12-16T19:03:52.452764Z"
    },
    "collapsed": true
   },
   "outputs": [
    {
     "name": "stdout",
     "output_type": "stream",
     "text": [
      "Dataframe contains \u001b[1m19932 rows\u001b[0m and \u001b[1m21 columns\u001b[0m\n"
     ]
    }
   ],
   "source": [
    "df = checkpoint(\"03-cleaned\")\n",
    "\n",
    "rows, cols = df.shape\n",
    "print(\"Dataframe contains\", bold(f\"{rows} rows\"), \"and\", bold(f\"{cols} columns\"))"
   ]
  },
  {
   "cell_type": "markdown",
   "id": "db3393cc11791516",
   "metadata": {},
   "source": [
    "#### Bag of words\n",
    "\n",
    "Analyze each loss available for `SGDClassifier` class"
   ]
  },
  {
   "cell_type": "markdown",
   "id": "d6697b069f15442d",
   "metadata": {},
   "source": [
    "##### `log_loss` loss\n",
    "\n",
    "Results in logistic regression"
   ]
  },
  {
   "cell_type": "code",
   "execution_count": null,
   "id": "2aaad3d2a763c537",
   "metadata": {},
   "outputs": [],
   "source": [
    "train_analyze(SGDClassifier(loss='log_loss', n_jobs=-1),\n",
    "              CountVectorizer(), df)"
   ]
  },
  {
   "cell_type": "markdown",
   "id": "25ec75ba",
   "metadata": {},
   "source": [
    "##### `perceptron` loss"
   ]
  },
  {
   "cell_type": "code",
   "execution_count": null,
   "id": "1ed332a5",
   "metadata": {},
   "outputs": [],
   "source": [
    "train_analyze(SGDClassifier(loss='perceptron', n_jobs=-1),\n",
    "              CountVectorizer(), df)"
   ]
  },
  {
   "cell_type": "markdown",
   "id": "b8e37ec3",
   "metadata": {},
   "source": [
    "##### `squared_error` loss"
   ]
  },
  {
   "cell_type": "code",
   "execution_count": null,
   "id": "3a6436fd",
   "metadata": {},
   "outputs": [],
   "source": [
    "train_analyze(SGDClassifier(loss='squared_error', n_jobs=-1),\n",
    "              CountVectorizer(), df)"
   ]
  },
  {
   "cell_type": "markdown",
   "id": "748c0f70",
   "metadata": {},
   "source": [
    "##### `huber` loss"
   ]
  },
  {
   "cell_type": "code",
   "execution_count": null,
   "id": "fc4e462a",
   "metadata": {},
   "outputs": [],
   "source": [
    "train_analyze(SGDClassifier(loss='huber', n_jobs=-1),\n",
    "              CountVectorizer(), df)"
   ]
  },
  {
   "cell_type": "markdown",
   "id": "2527f3bb",
   "metadata": {},
   "source": [
    "##### `modified_huber` loss"
   ]
  },
  {
   "cell_type": "code",
   "execution_count": null,
   "id": "ea5e48e6",
   "metadata": {},
   "outputs": [],
   "source": [
    "train_analyze(SGDClassifier(loss='modified_huber', n_jobs=-1),\n",
    "              CountVectorizer(), df)"
   ]
  },
  {
   "cell_type": "markdown",
   "id": "314f95a2f0090e94",
   "metadata": {},
   "source": [
    "##### `hinge` loss\n",
    "\n",
    "Results in a linear SVM"
   ]
  },
  {
   "cell_type": "code",
   "execution_count": null,
   "id": "94e0017ad5149d43",
   "metadata": {},
   "outputs": [],
   "source": [
    "train_analyze(SGDClassifier(loss='hinge', n_jobs=-1),\n",
    "              CountVectorizer(), df)"
   ]
  },
  {
   "cell_type": "markdown",
   "id": "878cc58e",
   "metadata": {},
   "source": [
    "##### `squared_hinge` loss"
   ]
  },
  {
   "cell_type": "code",
   "execution_count": null,
   "id": "66494e8f",
   "metadata": {},
   "outputs": [],
   "source": [
    "train_analyze(SGDClassifier(loss='squared_hinge', n_jobs=-1),\n",
    "              CountVectorizer(), df)"
   ]
  },
  {
   "cell_type": "markdown",
   "id": "9d2efc18",
   "metadata": {},
   "source": [
    "##### `epsilon_insensitive` loss"
   ]
  },
  {
   "cell_type": "code",
   "execution_count": null,
   "id": "e54ffeac",
   "metadata": {},
   "outputs": [],
   "source": [
    "train_analyze(SGDClassifier(loss='epsilon_insensitive', n_jobs=-1),\n",
    "              CountVectorizer(), df)"
   ]
  },
  {
   "cell_type": "markdown",
   "id": "21f1c72e",
   "metadata": {},
   "source": [
    "##### `squared_epsilon_insensitive` loss"
   ]
  },
  {
   "cell_type": "code",
   "execution_count": null,
   "id": "2aa5652c",
   "metadata": {},
   "outputs": [],
   "source": [
    "train_analyze(SGDClassifier(loss='squared_epsilon_insensitive', n_jobs=-1),\n",
    "              CountVectorizer(), df)"
   ]
  },
  {
   "cell_type": "markdown",
   "id": "cff657ab",
   "metadata": {},
   "source": [
    "#### *tf-idf*\n",
    "\n",
    "Analyze each loss available for `LinearSVC` class"
   ]
  },
  {
   "cell_type": "markdown",
   "id": "43a3fa9c",
   "metadata": {},
   "source": [
    "##### `log_loss` loss\n",
    "\n",
    "Results in logistic regression"
   ]
  },
  {
   "cell_type": "code",
   "execution_count": null,
   "id": "651c756c",
   "metadata": {},
   "outputs": [],
   "source": [
    "train_analyze(SGDClassifier(loss='log_loss', n_jobs=-1),\n",
    "              TfidfVectorizer(), df)"
   ]
  },
  {
   "cell_type": "markdown",
   "id": "af1de3ea",
   "metadata": {},
   "source": [
    "##### `perceptron` loss"
   ]
  },
  {
   "cell_type": "code",
   "execution_count": null,
   "id": "fa8a1e5f",
   "metadata": {},
   "outputs": [],
   "source": [
    "train_analyze(SGDClassifier(loss='perceptron', n_jobs=-1),\n",
    "              TfidfVectorizer(), df)"
   ]
  },
  {
   "cell_type": "markdown",
   "id": "bfc07575",
   "metadata": {},
   "source": [
    "##### `squared_error` loss"
   ]
  },
  {
   "cell_type": "code",
   "execution_count": null,
   "id": "f8e49080",
   "metadata": {},
   "outputs": [],
   "source": [
    "train_analyze(SGDClassifier(loss='squared_error', n_jobs=-1),\n",
    "              TfidfVectorizer(), df)"
   ]
  },
  {
   "cell_type": "markdown",
   "id": "8d77fb1d",
   "metadata": {},
   "source": [
    "##### `huber` loss"
   ]
  },
  {
   "cell_type": "code",
   "execution_count": null,
   "id": "9d751fdc",
   "metadata": {},
   "outputs": [],
   "source": [
    "train_analyze(SGDClassifier(loss='huber', n_jobs=-1),\n",
    "              TfidfVectorizer(), df)"
   ]
  },
  {
   "cell_type": "markdown",
   "id": "51dda8cc",
   "metadata": {},
   "source": [
    "##### `modified_huber` loss"
   ]
  },
  {
   "cell_type": "code",
   "execution_count": null,
   "id": "4fec823d",
   "metadata": {},
   "outputs": [],
   "source": [
    "train_analyze(SGDClassifier(loss='modified_huber', n_jobs=-1),\n",
    "              TfidfVectorizer(), df)"
   ]
  },
  {
   "cell_type": "markdown",
   "id": "b9a103d1",
   "metadata": {},
   "source": [
    "##### `hinge` loss\n",
    "\n",
    "Results in a linear SVM"
   ]
  },
  {
   "cell_type": "code",
   "execution_count": null,
   "id": "d22236d9",
   "metadata": {},
   "outputs": [],
   "source": [
    "train_analyze(SGDClassifier(loss='hinge', n_jobs=-1),\n",
    "              TfidfVectorizer(), df)"
   ]
  },
  {
   "cell_type": "markdown",
   "id": "4bbe5b7f",
   "metadata": {},
   "source": [
    "##### `squared_hinge` loss"
   ]
  },
  {
   "cell_type": "code",
   "execution_count": null,
   "id": "87fc5c5c",
   "metadata": {},
   "outputs": [],
   "source": [
    "train_analyze(SGDClassifier(loss='squared_hinge', n_jobs=-1),\n",
    "              TfidfVectorizer(), df)"
   ]
  },
  {
   "cell_type": "markdown",
   "id": "a3aded62",
   "metadata": {},
   "source": [
    "##### `epsilon_insensitive` loss"
   ]
  },
  {
   "cell_type": "code",
   "execution_count": null,
   "id": "8e6655b9",
   "metadata": {},
   "outputs": [],
   "source": [
    "train_analyze(SGDClassifier(loss='epsilon_insensitive', n_jobs=-1),\n",
    "              TfidfVectorizer(), df)"
   ]
  },
  {
   "cell_type": "markdown",
   "id": "f04c4c1d",
   "metadata": {},
   "source": [
    "##### `squared_epsilon_insensitive` loss"
   ]
  },
  {
   "cell_type": "code",
   "execution_count": null,
   "id": "e78a20a0",
   "metadata": {},
   "outputs": [],
   "source": [
    "train_analyze(SGDClassifier(loss='squared_epsilon_insensitive', n_jobs=-1),\n",
    "              TfidfVectorizer(), df)"
   ]
  }
 ],
 "metadata": {
  "kernelspec": {
   "display_name": "adm",
   "language": "python",
   "name": "python3"
  },
  "language_info": {
   "codemirror_mode": {
    "name": "ipython",
    "version": 2
   },
   "file_extension": ".py",
   "mimetype": "text/x-python",
   "name": "python",
   "nbconvert_exporter": "python",
   "pygments_lexer": "ipython2",
   "version": "3.12.8"
  }
 },
 "nbformat": 4,
 "nbformat_minor": 5
}
