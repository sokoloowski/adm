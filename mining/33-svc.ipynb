{
 "cells": [
  {
   "cell_type": "markdown",
   "id": "6213bc83506e4c60",
   "metadata": {},
   "source": [
    "# Advanced Data Mining\n",
    "\n",
    "## Models learning\n",
    "\n",
    "### Classification with C-Support Vector Classification"
   ]
  },
  {
   "cell_type": "code",
   "execution_count": 1,
   "id": "7346ea3b19958355",
   "metadata": {
    "ExecuteTime": {
     "end_time": "2024-12-16T19:03:52.429877Z",
     "start_time": "2024-12-16T19:03:51.812821Z"
    },
    "collapsed": true
   },
   "outputs": [],
   "source": [
    "from sklearn.feature_extraction.text import CountVectorizer, TfidfVectorizer\n",
    "from sklearn.svm import SVC\n",
    "\n",
    "from scripts.classification import train_analyze\n",
    "from scripts.colors import bold\n",
    "from scripts.utils import checkpoint"
   ]
  },
  {
   "cell_type": "markdown",
   "id": "1edbb3bc692ff761",
   "metadata": {},
   "source": [
    "Load data from previous step"
   ]
  },
  {
   "cell_type": "code",
   "execution_count": 2,
   "id": "a931ac044f038a25",
   "metadata": {
    "ExecuteTime": {
     "end_time": "2024-12-16T19:03:52.566934Z",
     "start_time": "2024-12-16T19:03:52.452764Z"
    },
    "collapsed": true
   },
   "outputs": [
    {
     "name": "stdout",
     "output_type": "stream",
     "text": [
      "Dataframe contains \u001b[1m19932 rows\u001b[0m and \u001b[1m21 columns\u001b[0m\n"
     ]
    }
   ],
   "source": [
    "df = checkpoint(\"03-cleaned\")\n",
    "\n",
    "rows, cols = df.shape\n",
    "print(\"Dataframe contains\", bold(f\"{rows} rows\"), \"and\", bold(f\"{cols} columns\"))"
   ]
  },
  {
   "cell_type": "markdown",
   "id": "db3393cc11791516",
   "metadata": {},
   "source": [
    "#### Bag of words\n",
    "\n",
    "Analyze each kernel available for `SVC` class"
   ]
  },
  {
   "cell_type": "markdown",
   "id": "314f95a2f0090e94",
   "metadata": {},
   "source": [
    "##### `linear` kernel"
   ]
  },
  {
   "cell_type": "code",
   "execution_count": null,
   "id": "94e0017ad5149d43",
   "metadata": {},
   "outputs": [],
   "source": [
    "train_analyze(SVC(kernel='linear', probability=True),\n",
    "              CountVectorizer(), df)"
   ]
  },
  {
   "cell_type": "markdown",
   "id": "d6697b069f15442d",
   "metadata": {},
   "source": [
    "##### `poly` kernel"
   ]
  },
  {
   "cell_type": "code",
   "execution_count": null,
   "id": "2aaad3d2a763c537",
   "metadata": {},
   "outputs": [],
   "source": [
    "train_analyze(SVC(kernel='poly', probability=True),\n",
    "              CountVectorizer(), df)"
   ]
  },
  {
   "cell_type": "markdown",
   "id": "737d26fb",
   "metadata": {},
   "source": [
    "##### `rbf` kernel"
   ]
  },
  {
   "cell_type": "code",
   "execution_count": null,
   "id": "f47ccb989e5d263",
   "metadata": {},
   "outputs": [],
   "source": [
    "train_analyze(SVC(kernel='rbf', probability=True),\n",
    "              CountVectorizer(), df)"
   ]
  },
  {
   "cell_type": "markdown",
   "id": "83c3f150",
   "metadata": {},
   "source": [
    "##### `sigmoid` kernel"
   ]
  },
  {
   "cell_type": "code",
   "execution_count": null,
   "id": "548c32e121fcc99",
   "metadata": {},
   "outputs": [],
   "source": [
    "train_analyze(SVC(kernel='sigmoid', probability=True),\n",
    "              CountVectorizer(), df)"
   ]
  },
  {
   "cell_type": "markdown",
   "id": "cff657ab",
   "metadata": {},
   "source": [
    "#### *tf-idf*\n",
    "\n",
    "Analyze each kernel available for `SVC` class"
   ]
  },
  {
   "cell_type": "markdown",
   "id": "f83a873f",
   "metadata": {},
   "source": [
    "##### `linear` kernel"
   ]
  },
  {
   "cell_type": "code",
   "execution_count": null,
   "id": "2f40a4a1",
   "metadata": {},
   "outputs": [],
   "source": [
    "train_analyze(SVC(kernel='linear', probability=True),\n",
    "              TfidfVectorizer(), df)"
   ]
  },
  {
   "cell_type": "markdown",
   "id": "a2ecdac5",
   "metadata": {},
   "source": [
    "##### `poly` kernel"
   ]
  },
  {
   "cell_type": "code",
   "execution_count": null,
   "id": "f7bad706",
   "metadata": {},
   "outputs": [],
   "source": [
    "train_analyze(SVC(kernel='poly', probability=True),\n",
    "              TfidfVectorizer(), df)"
   ]
  },
  {
   "cell_type": "markdown",
   "id": "ab1665ad",
   "metadata": {},
   "source": [
    "##### `rbf` kernel"
   ]
  },
  {
   "cell_type": "code",
   "execution_count": null,
   "id": "723f4816",
   "metadata": {},
   "outputs": [],
   "source": [
    "train_analyze(SVC(kernel='rbf', probability=True),\n",
    "              TfidfVectorizer(), df)"
   ]
  },
  {
   "cell_type": "markdown",
   "id": "72f814bd",
   "metadata": {},
   "source": [
    "##### `sigmoid` kernel"
   ]
  },
  {
   "cell_type": "code",
   "execution_count": null,
   "id": "c00ad246",
   "metadata": {},
   "outputs": [],
   "source": [
    "train_analyze(SVC(kernel='sigmoid', probability=True),\n",
    "              TfidfVectorizer(), df)"
   ]
  }
 ],
 "metadata": {
  "kernelspec": {
   "display_name": "adm",
   "language": "python",
   "name": "python3"
  },
  "language_info": {
   "codemirror_mode": {
    "name": "ipython",
    "version": 2
   },
   "file_extension": ".py",
   "mimetype": "text/x-python",
   "name": "python",
   "nbconvert_exporter": "python",
   "pygments_lexer": "ipython2",
   "version": "3.12.8"
  }
 },
 "nbformat": 4,
 "nbformat_minor": 5
}
