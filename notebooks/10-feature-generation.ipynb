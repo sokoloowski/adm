{
 "cells": [
  {
   "cell_type": "markdown",
   "id": "5c647138-1396-4fb0-ad94-7868a183c1cc",
   "metadata": {},
   "source": [
    "# Advanced Data Mining\n",
    "\n",
    "## Feature generation"
   ]
  },
  {
   "cell_type": "code",
   "execution_count": 6,
   "id": "55c9fbe7-930b-40fe-ba22-1e0d354910db",
   "metadata": {},
   "outputs": [],
   "source": [
    "import pandas as pd\n",
    "from scipy.sparse import csr_matrix\n",
    "\n",
    "from scripts.colors import bold\n",
    "from scripts.utils import checkpoint"
   ]
  },
  {
   "cell_type": "code",
   "execution_count": 7,
   "id": "b543d2c7-d7b1-479e-ad49-efdb8a284ed1",
   "metadata": {},
   "outputs": [
    {
     "name": "stdout",
     "output_type": "stream",
     "text": [
      "Dataframe contains \u001b[1m19933 rows\u001b[0m and \u001b[1m21 columns\u001b[0m\n"
     ]
    }
   ],
   "source": [
    "df = checkpoint('03-cleaned')\n",
    "\n",
    "rows, cols = df.shape\n",
    "print(\"Dataframe contains\", bold(f\"{rows} rows\"), \"and\", bold(f\"{cols} columns\"))"
   ]
  },
  {
   "cell_type": "markdown",
   "id": "6aa57fe8-ccf2-403f-8cb9-adde17d39a76",
   "metadata": {},
   "source": [
    "### Bag of words"
   ]
  },
  {
   "cell_type": "code",
   "execution_count": 8,
   "id": "b921e168-9614-44ab-9b0c-a7a938b2bebb",
   "metadata": {},
   "outputs": [
    {
     "data": {
      "text/plain": [
       "(19933, 21238)"
      ]
     },
     "execution_count": 8,
     "metadata": {},
     "output_type": "execute_result"
    }
   ],
   "source": [
    "from sklearn.feature_extraction.text import CountVectorizer\n",
    "\n",
    "bow = CountVectorizer()\n",
    "X_bow: csr_matrix = bow.fit_transform(df['body'])\n",
    "X_bow.shape"
   ]
  },
  {
   "cell_type": "code",
   "execution_count": 9,
   "id": "e96dcd5d-6cf5-4776-b771-cc8071ffe9e4",
   "metadata": {},
   "outputs": [],
   "source": [
    "# Create tsv files with embeddings for https://projector.tensorflow.org/\n",
    "pd.DataFrame(data=X_bow.todense()).T.to_csv(\"results/checkpoint.tsv\", index=False, header=False, sep=\"\\t\")\n",
    "pd.DataFrame(data=bow.get_feature_names_out()).to_csv(\"results/metadata.tsv\", index=False, header=False, sep=\"\\t\")"
   ]
  },
  {
   "cell_type": "markdown",
   "id": "1490f724-28c5-49ea-8295-622505af371e",
   "metadata": {},
   "source": [
    "### *tf-idf*"
   ]
  },
  {
   "cell_type": "code",
   "execution_count": 10,
   "id": "6498af55-d03a-47b9-906a-bb35c30f6eb2",
   "metadata": {},
   "outputs": [
    {
     "data": {
      "text/plain": [
       "(19933, 21238)"
      ]
     },
     "execution_count": 10,
     "metadata": {},
     "output_type": "execute_result"
    }
   ],
   "source": [
    "from sklearn.feature_extraction.text import TfidfVectorizer\n",
    "\n",
    "tfidf = TfidfVectorizer()\n",
    "X_tfidf = tfidf.fit_transform(df['body'])\n",
    "X_tfidf.shape"
   ]
  }
 ],
 "metadata": {
  "kernelspec": {
   "display_name": "adm",
   "language": "python",
   "name": "python3"
  },
  "language_info": {
   "codemirror_mode": {
    "name": "ipython",
    "version": 3
   },
   "file_extension": ".py",
   "mimetype": "text/x-python",
   "name": "python",
   "nbconvert_exporter": "python",
   "pygments_lexer": "ipython3",
   "version": "3.12.8"
  }
 },
 "nbformat": 4,
 "nbformat_minor": 5
}
