{
 "cells": [
  {
   "cell_type": "code",
   "execution_count": null,
   "id": "338c01157240ce05",
   "metadata": {
    "ExecuteTime": {
     "end_time": "2024-11-21T11:55:46.109430Z",
     "start_time": "2024-11-21T11:55:45.446328Z"
    }
   },
   "outputs": [],
   "source": [
    "import pandas as pd\n",
    "import matplotlib.pyplot as plt\n",
    "\n",
    "\n",
    "def load_count(filepath: str) -> pd.DataFrame:\n",
    "    _df = pd.read_csv(filepath)\n",
    "    _df['year_month'] = _df.apply(lambda x: pd.to_datetime(x['year_month'], format='%Y-%m-%d %H:%M:%S'), axis=1)\n",
    "    return _df\n",
    "\n",
    "\n",
    "def plot_count(dataframes: list[pd.DataFrame], legend=None, out=\"comments_count.png\") -> None:\n",
    "    plt.figure(figsize=(16, 9))\n",
    "    plt.ticklabel_format(useOffset=False, style='plain')\n",
    "    for _df in dataframes:\n",
    "        plt.plot(_df['year_month'], _df['row_count'])\n",
    "    plt.legend(legend)\n",
    "    plt.xlabel('Date')\n",
    "    plt.xticks(rotation=45)\n",
    "    plt.ylabel('Number of comments')\n",
    "    if out:\n",
    "        plt.savefig(out)\n",
    "    plt.show()\n",
    "\n",
    "\n",
    "def plot_increase(dataframes: list[pd.DataFrame], legend=None, out=\"comments_increase.png\") -> None:\n",
    "    plt.figure(figsize=(16, 9))\n",
    "    plt.ticklabel_format(useOffset=False, style='plain')\n",
    "    for _df in dataframes:\n",
    "        plt.plot(_df['year_month'], _df['row_count'] / _df['row_count'].max())\n",
    "    plt.legend(legend)\n",
    "    plt.xlabel('Date')\n",
    "    plt.xticks(rotation=45)\n",
    "    plt.ylabel('Increase in comments')\n",
    "    if out:\n",
    "        plt.savefig(out)\n",
    "    plt.show()\n",
    "\n",
    "\n",
    "def plot_count_by_year(dataframes: list[pd.DataFrame], legend=None, out=\"comments_count_by_year.png\") -> None:\n",
    "    plt.figure(figsize=(16, 9))\n",
    "    plt.ticklabel_format(useOffset=False, style='plain')\n",
    "    for _df in dataframes:\n",
    "        _d = _df.groupby(_df['year_month'].dt.year).sum(True)\n",
    "        plt.bar(_d.index, _d['row_count'])\n",
    "    plt.legend(legend)\n",
    "    plt.xlabel('Date')\n",
    "    plt.ylabel('Number of comments')\n",
    "    if out:\n",
    "        plt.savefig(out)\n",
    "    plt.show()"
   ]
  },
  {
   "cell_type": "code",
   "execution_count": null,
   "id": "6bd46adc41e0f366",
   "metadata": {
    "ExecuteTime": {
     "end_time": "2024-11-21T11:55:46.174231Z",
     "start_time": "2024-11-21T11:55:46.122571Z"
    }
   },
   "outputs": [],
   "source": [
    "df_orig = load_count('csv/comments_count_orig.csv')\n",
    "df_delete_deleted = load_count('csv/comments_count_1.csv')\n",
    "df_select_longer_than_1000 = load_count('csv/comments_count_2.csv')"
   ]
  },
  {
   "cell_type": "code",
   "execution_count": null,
   "id": "cf91772e9bfcfd0d",
   "metadata": {},
   "outputs": [],
   "source": [
    "plot_count([df_orig, df_delete_deleted, df_select_longer_than_1000],\n",
    "           legend=[\"Original\", \"DELETE FROM reddit WHERE body = '[deleted]'\",\n",
    "                   \"SELECT INTO cleared FROM reddit WHERE length(body) > 1000\"])"
   ]
  },
  {
   "cell_type": "code",
   "execution_count": null,
   "id": "5828a4b184191394",
   "metadata": {},
   "outputs": [],
   "source": [
    "plot_increase([df_orig, df_delete_deleted, df_select_longer_than_1000],\n",
    "              legend=[\"Original\", \"DELETE FROM reddit WHERE body = '[deleted]'\",\n",
    "                      \"SELECT INTO cleared FROM reddit WHERE length(body) > 1000\"])"
   ]
  },
  {
   "cell_type": "code",
   "execution_count": null,
   "id": "a7312d30551432e6",
   "metadata": {
    "ExecuteTime": {
     "end_time": "2024-11-03T15:08:00.668401Z",
     "start_time": "2024-11-03T15:08:00.467302Z"
    }
   },
   "outputs": [],
   "source": [
    "plot_count_by_year([df_orig, df_delete_deleted, df_select_longer_than_1000],\n",
    "                   legend=[\"Original\", \"DELETE FROM reddit WHERE body = '[deleted]'\",\n",
    "                           \"SELECT INTO cleared FROM reddit WHERE length(body) > 1000\"])"
   ]
  },
  {
   "cell_type": "code",
   "execution_count": null,
   "id": "3a29e3a722b541",
   "metadata": {},
   "outputs": [],
   "source": [
    "df_select_longer_than_1000['row_count'].sum() / df_orig['row_count'].sum()"
   ]
  }
 ],
 "metadata": {
  "kernelspec": {
   "display_name": "Python 3",
   "language": "python",
   "name": "python3"
  },
  "language_info": {
   "codemirror_mode": {
    "name": "ipython",
    "version": 2
   },
   "file_extension": ".py",
   "mimetype": "text/x-python",
   "name": "python",
   "nbconvert_exporter": "python",
   "pygments_lexer": "ipython2",
   "version": "2.7.6"
  }
 },
 "nbformat": 4,
 "nbformat_minor": 5
}
